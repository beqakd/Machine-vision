{
 "cells": [
  {
   "cell_type": "markdown",
   "metadata": {},
   "source": [
    "# Imports"
   ]
  },
  {
   "cell_type": "code",
   "execution_count": null,
   "metadata": {},
   "outputs": [],
   "source": [
    "import numpy as np\n",
    "import pandas as pd\n",
    "import glob\n",
    "import base64\n",
    "import json\n",
    "import os\n",
    "import ssl\n",
    "from PIL import Image \n",
    "import http.client as httplib  # Python 3\n",
    "import threading\n",
    "import time\n",
    "import pickle\n",
    "import pathlib\n",
    "import cv2\n",
    "import numpy as np\n",
    "from os import path"
   ]
  },
  {
   "cell_type": "markdown",
   "metadata": {},
   "source": [
    "# Image bbox coordinates"
   ]
  },
  {
   "cell_type": "code",
   "execution_count": null,
   "metadata": {},
   "outputs": [],
   "source": [
    "# This method takes image path as argument and using sighthoundapi\n",
    "# takes coordinates of licenseplate and returns it\n",
    "def bbox_image_plate(new_path):\n",
    "    headers = {\"Content-type\": \"application/json\",\n",
    "               \"X-Access-Token\": \"K4MCUFgx4SogxuEjrt2P5ZVaLNxBR3Tev4F5\"}\n",
    "    conn = httplib.HTTPSConnection(\"dev.sighthoundapi.com\", \n",
    "           context=ssl.SSLContext(ssl.PROTOCOL_TLSv1_2))\n",
    "    \n",
    "    image_data = base64.b64encode(open(new_path, \"rb\").read()).decode()\n",
    "\n",
    "    params = json.dumps({\"image\": image_data})\n",
    "    conn.request(\"POST\", \"/v1/recognition?objectType=vehicle,licenseplate\", params, headers)\n",
    "    response = conn.getresponse()\n",
    "    result = response.read()\n",
    "    \n",
    "    variables2=json.loads(result)\n",
    "    try:\n",
    "        points = variables2['objects'][0]['vehicleAnnotation']['licenseplate']['bounding']['vertices']\n",
    "        print('wtf')\n",
    "    except:\n",
    "        return False, None, None, None, None\n",
    "    \n",
    "    return True, points[0]['x'], points[0]['y'], points[1]['x'], points[2]['y']"
   ]
  },
  {
   "cell_type": "markdown",
   "metadata": {},
   "source": [
    "# Detect plate color"
   ]
  },
  {
   "cell_type": "code",
   "execution_count": null,
   "metadata": {},
   "outputs": [],
   "source": [
    "# This method takes image path as argument and also 4 coordinates of license plate\n",
    "# it crop license plate and decided plate is red or nor\n",
    "def detect_color_flag(filename, a, b, c, d):\n",
    "    img = Image.open(filename).crop((a, b, c, d))\n",
    "    img.save('test.jpg')\n",
    "    \n",
    "    img =cv2.imread(\"test.jpg\")\n",
    "    img_hsv=cv2.cvtColor(img, cv2.COLOR_BGR2HSV)\n",
    "\n",
    "    # lower mask (0-10)\n",
    "    lower_red = np.array([0,50,50])\n",
    "    upper_red = np.array([10,255,255])\n",
    "    mask0 = cv2.inRange(img_hsv, lower_red, upper_red)\n",
    "\n",
    "    # upper mask (170-180)\n",
    "    lower_red = np.array([170,50,50])\n",
    "    upper_red = np.array([180,255,255])\n",
    "    mask1 = cv2.inRange(img_hsv, lower_red, upper_red)\n",
    "\n",
    "    # join my masks\n",
    "    mask = mask0+mask1\n",
    "    if cv2.countNonZero(mask) > 100:\n",
    "        return True\n",
    "    return False"
   ]
  },
  {
   "cell_type": "markdown",
   "metadata": {},
   "source": [
    "# Make recognition"
   ]
  },
  {
   "cell_type": "code",
   "execution_count": null,
   "metadata": {},
   "outputs": [],
   "source": [
    "# This method takes image path as argument and returns answer\n",
    "def plate_recognition(image_path):\n",
    "    flag, a, b, c, d = bbox_image_plate(image_path)\n",
    "    if not flag:\n",
    "        return -1\n",
    "    if flag:\n",
    "        correct_flag = detect_color_flag(image_path, a, b, c, d)\n",
    "        if correct_flag:\n",
    "            return 1\n",
    "        else:\n",
    "            return 0"
   ]
  },
  {
   "cell_type": "markdown",
   "metadata": {},
   "source": [
    "# Testing\n",
    "We need image path and we are ready to go"
   ]
  },
  {
   "cell_type": "code",
   "execution_count": null,
   "metadata": {},
   "outputs": [],
   "source": [
    "# image path\n",
    "data_path = ''"
   ]
  },
  {
   "cell_type": "code",
   "execution_count": null,
   "metadata": {},
   "outputs": [],
   "source": [
    "result = plate_recognition('../input/plate-color-recognition/plate data/1/1.jpg')\n",
    "if result == -1:\n",
    "    print('სურათით ვერ დადგინა პასუხი')\n",
    "elif result == 0:\n",
    "    print('სურათზე მოცემული მანქანა განბაჟებულია')\n",
    "else:\n",
    "    print('სურათზე მოცემული მანქანა გაუნბაჟებელია')"
   ]
  },
  {
   "cell_type": "code",
   "execution_count": null,
   "metadata": {},
   "outputs": [],
   "source": []
  },
  {
   "cell_type": "code",
   "execution_count": null,
   "metadata": {},
   "outputs": [],
   "source": []
  }
 ],
 "metadata": {
  "kernelspec": {
   "display_name": "Python 3",
   "language": "python",
   "name": "python3"
  },
  "language_info": {
   "codemirror_mode": {
    "name": "ipython",
    "version": 3
   },
   "file_extension": ".py",
   "mimetype": "text/x-python",
   "name": "python",
   "nbconvert_exporter": "python",
   "pygments_lexer": "ipython3",
   "version": "3.7.6"
  }
 },
 "nbformat": 4,
 "nbformat_minor": 4
}
